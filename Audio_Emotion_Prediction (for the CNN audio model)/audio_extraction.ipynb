{
 "cells": [
  {
   "cell_type": "markdown",
   "metadata": {},
   "source": [
    "# Extracting Audio from Videos"
   ]
  },
  {
   "cell_type": "code",
   "execution_count": null,
   "metadata": {},
   "outputs": [],
   "source": [
    "import os\n",
    "from moviepy.editor import VideoFileClip\n",
    "\n",
    "# Function to extract audio from video with specified sample rate\n",
    "def extract_audio_from_video(input_video_path, output_audio_path, sample_rate=16000):\n",
    "    video = VideoFileClip(input_video_path)\n",
    "    audio = video.audio\n",
    "    audio.write_audiofile(output_audio_path, fps=sample_rate)\n",
    "\n",
    "# Paths to input and output directories\n",
    "input_folder = \"C:/Users/Recherche2/Desktop/clear/ordered/videos/path_to_output_directory\"\n",
    "output_folder = \"C:/Users/Recherche2/Desktop/clear_two/second_audio\"\n",
    "\n",
    "# Ensure output directory exists\n",
    "os.makedirs(output_folder, exist_ok=True)\n",
    "\n",
    "# Loop through all files in the input folder\n",
    "for filename in os.listdir(input_folder):\n",
    "    if filename.endswith(\".mp4\") or filename.endswith(\".mkv\") or filename.endswith(\".avi\"):\n",
    "        input_video_path = os.path.join(input_folder, filename)\n",
    "        output_audio_path = os.path.join(output_folder, os.path.splitext(filename)[0] + \".mp3\")\n",
    "        try:\n",
    "            extract_audio_from_video(input_video_path, output_audio_path, sample_rate=16000)\n",
    "            print(f\"Extracted audio from {filename} to {output_audio_path}\")\n",
    "        except Exception as e:\n",
    "            print(f\"Failed to extract audio from {filename}: {e}\")\n",
    "\n"
   ]
  },
  {
   "cell_type": "markdown",
   "metadata": {},
   "source": []
  }
 ],
 "metadata": {
  "kernelspec": {
   "display_name": "try",
   "language": "python",
   "name": "python3"
  },
  "language_info": {
   "codemirror_mode": {
    "name": "ipython",
    "version": 3
   },
   "file_extension": ".py",
   "mimetype": "text/x-python",
   "name": "python",
   "nbconvert_exporter": "python",
   "pygments_lexer": "ipython3",
   "version": "3.10.14"
  }
 },
 "nbformat": 4,
 "nbformat_minor": 2
}
